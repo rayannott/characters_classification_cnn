{
 "cells": [
  {
   "cell_type": "markdown",
   "id": "8e4c6d4e",
   "metadata": {},
   "source": [
    "## Reading data"
   ]
  },
  {
   "cell_type": "markdown",
   "id": "98f2f6e7",
   "metadata": {},
   "source": [
    "for ref: https://data-flair.training/blogs/handwritten-character-recognition-neural-network/"
   ]
  },
  {
   "cell_type": "code",
   "execution_count": 1,
   "id": "a565405a",
   "metadata": {},
   "outputs": [],
   "source": [
    "import numpy as np\n",
    "from matplotlib import pyplot as plt\n",
    "from string import ascii_uppercase"
   ]
  },
  {
   "cell_type": "code",
   "execution_count": 2,
   "id": "c2d045c0",
   "metadata": {},
   "outputs": [],
   "source": [
    "letters_enumerated = dict(zip(range(26), list(ascii_uppercase)))"
   ]
  },
  {
   "cell_type": "code",
   "execution_count": 3,
   "id": "48eacfc4",
   "metadata": {},
   "outputs": [],
   "source": [
    "# my_data = np.genfromtxt('data.csv', delimiter=',')"
   ]
  },
  {
   "cell_type": "code",
   "execution_count": 4,
   "id": "f04e8972",
   "metadata": {},
   "outputs": [],
   "source": [
    "# my_data = my_data.astype('int32')"
   ]
  },
  {
   "cell_type": "code",
   "execution_count": 5,
   "id": "f069261b",
   "metadata": {},
   "outputs": [],
   "source": [
    "def save(N):\n",
    "    r = np.arange(372451)\n",
    "    mask = np.random.choice(r, size=N, replace=False)\n",
    "    my_data[mask].tofile(f'data_{N}.dat', sep=',')"
   ]
  },
  {
   "cell_type": "code",
   "execution_count": 6,
   "id": "5fa1680b",
   "metadata": {},
   "outputs": [],
   "source": [
    "def to_pics(a, N):\n",
    "    a1 = a.reshape((N, 785))\n",
    "    X = a1[:, 1:].reshape((N, 28, 28, 1))/255\n",
    "    y = a1[:, 0]\n",
    "    return X, y"
   ]
  },
  {
   "cell_type": "code",
   "execution_count": 7,
   "id": "123c8194",
   "metadata": {},
   "outputs": [],
   "source": [
    "def show(X, y, i):\n",
    "    plt.imshow(X[i], cmap='Greys')\n",
    "    print(f'The letter #{y[i]} is: {letters_enumerated[y[i]]}')\n",
    "    \n",
    "def show_table(X, y, n):\n",
    "    fig, ax = plt.subplots(n, n, figsize = (10,10), sharey=True, sharex=True)\n",
    "    axes = ax.flatten()\n",
    "    ind = np.random.choice(np.arange(len(y)), size=n*n, replace=False)\n",
    "    for ind, i in enumerate(ind):\n",
    "        axes[ind].imshow(X[i], cmap='Greys')\n",
    "        axes[ind].set_xlabel(letters_enumerated[y[i]])"
   ]
  },
  {
   "cell_type": "code",
   "execution_count": 8,
   "id": "ff536c86",
   "metadata": {},
   "outputs": [],
   "source": [
    "N = 10000"
   ]
  },
  {
   "cell_type": "code",
   "execution_count": 9,
   "id": "fa0d12eb",
   "metadata": {},
   "outputs": [],
   "source": [
    "data = np.loadtxt(f'data_{N}.dat', delimiter=',').astype('int32')"
   ]
  },
  {
   "cell_type": "code",
   "execution_count": 10,
   "id": "616d123b",
   "metadata": {},
   "outputs": [],
   "source": [
    "X, y = to_pics(data, N)"
   ]
  },
  {
   "cell_type": "code",
   "execution_count": 11,
   "id": "fb248456",
   "metadata": {},
   "outputs": [
    {
     "data": {
      "image/png": "[encoded data removed]",
      "text/plain": [
       "<Figure size 720x720 with 16 Axes>"
      ]
     },
     "metadata": {
      "needs_background": "light"
     },
     "output_type": "display_data"
    }
   ],
   "source": [
    "show_table(X,y,4)"
   ]
  },
  {
   "cell_type": "markdown",
   "id": "dc9b46d4",
   "metadata": {},
   "source": [
    "## Building a CNN classification model (Sequential from keras)"
   ]
  },
  {
   "cell_type": "code",
   "execution_count": 12,
   "id": "2bc7e838",
   "metadata": {},
   "outputs": [],
   "source": [
    "from tensorflow.keras.models import Sequential, load_model\n",
    "from tensorflow.keras.layers import Dense, Flatten, Conv2D, MaxPool2D\n",
    "from tensorflow.keras.optimizers import Adam\n",
    "from tensorflow.keras.losses import SparseCategoricalCrossentropy\n",
    "from sklearn.model_selection import train_test_split\n",
    "from tensorflow.keras.utils import to_categorical # for the one-hot-encoder"
   ]
  },
  {
   "cell_type": "code",
   "execution_count": 13,
   "id": "ddbf9c27",
   "metadata": {},
   "outputs": [
    {
     "data": {
      "text/plain": [
       "(10000, 28, 28, 1)"
      ]
     },
     "execution_count": 13,
     "metadata": {},
     "output_type": "execute_result"
    }
   ],
   "source": [
    "X.shape"
   ]
  },
  {
   "cell_type": "code",
   "execution_count": 14,
   "id": "af9d8d79",
   "metadata": {},
   "outputs": [],
   "source": [
    "X_train, X_test, y_train, y_test = train_test_split(X, y, test_size=0.10)"
   ]
  },
  {
   "cell_type": "code",
   "execution_count": 15,
   "id": "3323d35c",
   "metadata": {},
   "outputs": [],
   "source": [
    "y_trainOHE = to_categorical(y_train, num_classes = 26, dtype='int32')\n",
    "y_testOHE = to_categorical(y_test, num_classes = 26, dtype='int32')"
   ]
  },
  {
   "cell_type": "code",
   "execution_count": 16,
   "id": "3387d08b",
   "metadata": {},
   "outputs": [],
   "source": [
    "model = Sequential()\n",
    "model.add(Conv2D(filters=32, \n",
    "                 kernel_size=(3, 3), \n",
    "                 activation='relu', \n",
    "                 input_shape=(28, 28, 1)))\n",
    "model.add(MaxPool2D(pool_size=(2, 2), strides=2))\n",
    "model.add(Conv2D(filters=64, \n",
    "                 kernel_size=(3, 3), \n",
    "                 activation='relu', \n",
    "                 padding = 'same'))\n",
    "model.add(MaxPool2D(pool_size=(2, 2), strides=2))\n",
    "model.add(Conv2D(filters=128, \n",
    "                 kernel_size=(3, 3), \n",
    "                 activation='relu', \n",
    "                 padding = 'valid'))\n",
    "model.add(MaxPool2D(pool_size=(2, 2), strides=2))\n",
    "model.add(Flatten())\n",
    "model.add(Dense(64, activation =\"relu\"))\n",
    "model.add(Dense(26, activation =\"softmax\"))"
   ]
  },
  {
   "cell_type": "code",
   "execution_count": 17,
   "id": "a5e1d9a9",
   "metadata": {},
   "outputs": [],
   "source": [
    "model.compile(optimizer = Adam(learning_rate=0.001), \n",
    "              loss='categorical_crossentropy',\n",
    "              metrics=['accuracy'])"
   ]
  },
  {
   "cell_type": "code",
   "execution_count": 18,
   "id": "ee67e0da",
   "metadata": {},
   "outputs": [
    {
     "name": "stdout",
     "output_type": "stream",
     "text": [
      "Model: \"sequential\"\n",
      "_________________________________________________________________\n",
      "Layer (type)                 Output Shape              Param #   \n",
      "=================================================================\n",
      "conv2d (Conv2D)              (None, 26, 26, 32)        320       \n",
      "_________________________________________________________________\n",
      "max_pooling2d (MaxPooling2D) (None, 13, 13, 32)        0         \n",
      "_________________________________________________________________\n",
      "conv2d_1 (Conv2D)            (None, 13, 13, 64)        18496     \n",
      "_________________________________________________________________\n",
      "max_pooling2d_1 (MaxPooling2 (None, 6, 6, 64)          0         \n",
      "_________________________________________________________________\n",
      "conv2d_2 (Conv2D)            (None, 4, 4, 128)         73856     \n",
      "_________________________________________________________________\n",
      "max_pooling2d_2 (MaxPooling2 (None, 2, 2, 128)         0         \n",
      "_________________________________________________________________\n",
      "flatten (Flatten)            (None, 512)               0         \n",
      "_________________________________________________________________\n",
      "dense (Dense)                (None, 64)                32832     \n",
      "_________________________________________________________________\n",
      "dense_1 (Dense)              (None, 26)                1690      \n",
      "=================================================================\n",
      "Total params: 127,194\n",
      "Trainable params: 127,194\n",
      "Non-trainable params: 0\n",
      "_________________________________________________________________\n"
     ]
    }
   ],
   "source": [
    "model.summary()"
   ]
  },
  {
   "cell_type": "code",
   "execution_count": 19,
   "id": "f85c0744",
   "metadata": {},
   "outputs": [
    {
     "name": "stdout",
     "output_type": "stream",
     "text": [
      "Epoch 1/20\n",
      "282/282 [==============================] - 4s 14ms/step - loss: 1.1772 - accuracy: 0.6786 - val_loss: 0.3435 - val_accuracy: 0.9020\n",
      "Epoch 2/20\n",
      "282/282 [==============================] - 4s 15ms/step - loss: 0.2816 - accuracy: 0.9177 - val_loss: 0.1973 - val_accuracy: 0.9390\n",
      "Epoch 3/20\n",
      "282/282 [==============================] - 4s 14ms/step - loss: 0.1712 - accuracy: 0.9498 - val_loss: 0.1846 - val_accuracy: 0.9420\n",
      "Epoch 4/20\n",
      "282/282 [==============================] - 4s 14ms/step - loss: 0.1221 - accuracy: 0.9630 - val_loss: 0.1262 - val_accuracy: 0.9570\n",
      "Epoch 5/20\n",
      "282/282 [==============================] - 4s 14ms/step - loss: 0.0937 - accuracy: 0.9717 - val_loss: 0.1560 - val_accuracy: 0.9560\n",
      "Epoch 6/20\n",
      "282/282 [==============================] - 4s 14ms/step - loss: 0.0680 - accuracy: 0.9796 - val_loss: 0.1160 - val_accuracy: 0.9670\n",
      "Epoch 7/20\n",
      "282/282 [==============================] - ETA: 0s - loss: 0.0538 - accuracy: 0.98 - 4s 14ms/step - loss: 0.0537 - accuracy: 0.9833 - val_loss: 0.1322 - val_accuracy: 0.9580\n",
      "Epoch 8/20\n",
      "282/282 [==============================] - 4s 14ms/step - loss: 0.0466 - accuracy: 0.9846 - val_loss: 0.1164 - val_accuracy: 0.9680\n",
      "Epoch 9/20\n",
      "282/282 [==============================] - 4s 15ms/step - loss: 0.0389 - accuracy: 0.9881 - val_loss: 0.1287 - val_accuracy: 0.9660\n",
      "Epoch 10/20\n",
      "282/282 [==============================] - 4s 15ms/step - loss: 0.0305 - accuracy: 0.9903 - val_loss: 0.1660 - val_accuracy: 0.9600\n",
      "Epoch 11/20\n",
      "282/282 [==============================] - 4s 16ms/step - loss: 0.0378 - accuracy: 0.9886 - val_loss: 0.1775 - val_accuracy: 0.9630\n",
      "Epoch 12/20\n",
      "282/282 [==============================] - 5s 17ms/step - loss: 0.0242 - accuracy: 0.9916 - val_loss: 0.1769 - val_accuracy: 0.9550\n",
      "Epoch 13/20\n",
      "282/282 [==============================] - 5s 17ms/step - loss: 0.0256 - accuracy: 0.9912 - val_loss: 0.1629 - val_accuracy: 0.9670\n",
      "Epoch 14/20\n",
      "282/282 [==============================] - 5s 18ms/step - loss: 0.0177 - accuracy: 0.9942 - val_loss: 0.1717 - val_accuracy: 0.9590\n",
      "Epoch 15/20\n",
      "282/282 [==============================] - 5s 17ms/step - loss: 0.0270 - accuracy: 0.9912 - val_loss: 0.1184 - val_accuracy: 0.9650\n",
      "Epoch 16/20\n",
      "282/282 [==============================] - 5s 18ms/step - loss: 0.0163 - accuracy: 0.9946 - val_loss: 0.1734 - val_accuracy: 0.9640\n",
      "Epoch 17/20\n",
      "282/282 [==============================] - 5s 19ms/step - loss: 0.0176 - accuracy: 0.9939 - val_loss: 0.2266 - val_accuracy: 0.9540\n",
      "Epoch 18/20\n",
      "282/282 [==============================] - 5s 19ms/step - loss: 0.0324 - accuracy: 0.9889 - val_loss: 0.1676 - val_accuracy: 0.9590\n",
      "Epoch 19/20\n",
      "282/282 [==============================] - 5s 19ms/step - loss: 0.0059 - accuracy: 0.9987 - val_loss: 0.1303 - val_accuracy: 0.9670\n",
      "Epoch 20/20\n",
      "282/282 [==============================] - 6s 20ms/step - loss: 0.0011 - accuracy: 0.9999 - val_loss: 0.1086 - val_accuracy: 0.9710\n"
     ]
    }
   ],
   "source": [
    "history = model.fit(X_train, \n",
    "                    y_trainOHE, \n",
    "                    epochs=20, \n",
    "                    validation_data=(X_test, y_testOHE))"
   ]
  },
  {
   "cell_type": "code",
   "execution_count": 20,
   "id": "4b6c70f6",
   "metadata": {
    "scrolled": true
   },
   "outputs": [
    {
     "data": {
      "image/png": "[encoded data removed]",
      "text/plain": [
       "<Figure size 432x288 with 1 Axes>"
      ]
     },
     "metadata": {
      "needs_background": "light"
     },
     "output_type": "display_data"
    }
   ],
   "source": [
    "plt.plot(history.history['accuracy'])\n",
    "plt.grid()\n",
    "plt.title('Model accuracy');\n",
    "plt.xlabel('epoch #');\n",
    "plt.ylabel('accuracy');"
   ]
  },
  {
   "cell_type": "code",
   "execution_count": 143,
   "id": "ba75a1a7",
   "metadata": {},
   "outputs": [],
   "source": [
    "# model.save(r'models/model_trained_on_1k_samples.h5')\n",
    "# model_loaded = load_model('models/model_trained_on_100k_samples.h5')"
   ]
  },
  {
   "cell_type": "markdown",
   "id": "98a52d5d",
   "metadata": {},
   "source": [
    "## Predicting"
   ]
  },
  {
   "cell_type": "code",
   "execution_count": 21,
   "id": "435be54a",
   "metadata": {},
   "outputs": [],
   "source": [
    "import matplotlib.image as image\n",
    "import os"
   ]
  },
  {
   "cell_type": "code",
   "execution_count": 22,
   "id": "062e25cf",
   "metadata": {},
   "outputs": [],
   "source": [
    "def read_image(filename):\n",
    "    return image.imread(f'tests/{filename}')[:,:,0].reshape((28,28,1))"
   ]
  },
  {
   "cell_type": "code",
   "execution_count": 23,
   "id": "d1c37e85",
   "metadata": {},
   "outputs": [],
   "source": [
    "def predict_drawn(image, model):\n",
    "    prob = model.predict(np.array([image]))\n",
    "    value = np.max(prob)\n",
    "    prediction = np.argmax(prob)\n",
    "    return letters_enumerated[prediction], value"
   ]
  },
  {
   "cell_type": "code",
   "execution_count": 54,
   "id": "f78e62ac",
   "metadata": {},
   "outputs": [],
   "source": [
    "def predict_drawn_all(model, save=False):\n",
    "    files = os.listdir('tests')\n",
    "    images = np.array([read_image(img) for img in files])\n",
    "    probabilities = model.predict(images)\n",
    "    predictions = np.argmax(probabilities, axis=1)\n",
    "    confidence = np.around(np.max(probabilities, axis=1), 4)\n",
    "    predictions_letters = list(map(lambda x: letters_enumerated[x], predictions))\n",
    "    true_labels = list(map(lambda x: x[:x.find('.')], files))\n",
    "    is_prediction_correct = [pred == true[0] for pred, true in zip(predictions_letters, true_labels)]\n",
    "    res = zip(true_labels, predictions_letters, is_prediction_correct, confidence)\n",
    "    res_list = list(res)\n",
    "    if save:\n",
    "        with open('on_drawn_samples/'+save, 'w') as f:\n",
    "            for row in res_list:\n",
    "                for el in row:\n",
    "                    f.write(f'{el}\\t')\n",
    "                f.write('\\n')\n",
    "    return res_list"
   ]
  },
  {
   "cell_type": "code",
   "execution_count": 55,
   "id": "e94156bb",
   "metadata": {},
   "outputs": [
    {
     "name": "stdout",
     "output_type": "stream",
     "text": [
      "true_value, prediction, indicator, confidence\n"
     ]
    },
    {
     "data": {
      "text/plain": [
       "[('A0', 'A', True, 1.0),\n",
       " ('B0', 'B', True, 0.9223),\n",
       " ('C0', 'C', True, 1.0),\n",
       " ('C1', 'C', True, 1.0),\n",
       " ('D0', 'D', True, 1.0),\n",
       " ('E0', 'E', True, 1.0),\n",
       " ('F0', 'B', False, 0.3176),\n",
       " ('F1', 'F', True, 0.9282),\n",
       " ('G0', 'G', True, 1.0),\n",
       " ('H0', 'H', True, 0.9984),\n",
       " ('I0', 'I', True, 1.0),\n",
       " ('K0', 'K', True, 1.0),\n",
       " ('L0', 'L', True, 1.0),\n",
       " ('M0', 'A', False, 0.9829),\n",
       " ('M1', 'M', True, 0.9959),\n",
       " ('N0', 'N', True, 1.0),\n",
       " ('O0', 'O', True, 1.0),\n",
       " ('P0', 'P', True, 1.0),\n",
       " ('R0', 'R', True, 1.0),\n",
       " ('R1', 'R', True, 1.0),\n",
       " ('S0', 'S', True, 1.0),\n",
       " ('S1', 'S', True, 1.0),\n",
       " ('T0', 'T', True, 0.9995),\n",
       " ('Y0', 'Y', True, 1.0)]"
      ]
     },
     "execution_count": 55,
     "metadata": {},
     "output_type": "execute_result"
    }
   ],
   "source": [
    "print('true_value, prediction, indicator, confidence')\n",
    "predict_drawn_all(model, 'res10k.csv')"
   ]
  },
  {
   "cell_type": "code",
   "execution_count": 58,
   "id": "39f1aa85",
   "metadata": {},
   "outputs": [],
   "source": [
    "model_100k = load_model('models/model_trained_on_100k_samples.h5')"
   ]
  },
  {
   "cell_type": "code",
   "execution_count": 59,
   "id": "3bb0eab7",
   "metadata": {},
   "outputs": [
    {
     "data": {
      "text/plain": [
       "[('A0', 'A', True, 0.9999),\n",
       " ('B0', 'O', False, 0.7977),\n",
       " ('C0', 'Q', False, 0.6879),\n",
       " ('C1', 'C', True, 0.9997),\n",
       " ('D0', 'D', True, 0.982),\n",
       " ('E0', 'E', True, 1.0),\n",
       " ('F0', 'P', False, 0.8127),\n",
       " ('F1', 'P', False, 0.9949),\n",
       " ('G0', 'Q', False, 0.9775),\n",
       " ('H0', 'H', True, 0.9999),\n",
       " ('I0', 'I', True, 0.9975),\n",
       " ('K0', 'K', True, 0.9985),\n",
       " ('L0', 'L', True, 0.9999),\n",
       " ('M0', 'A', False, 0.9993),\n",
       " ('M1', 'M', True, 0.5227),\n",
       " ('N0', 'N', True, 0.9949),\n",
       " ('O0', 'O', True, 1.0),\n",
       " ('P0', 'P', True, 1.0),\n",
       " ('R0', 'R', True, 0.9965),\n",
       " ('R1', 'R', True, 1.0),\n",
       " ('S0', 'S', True, 0.9997),\n",
       " ('S1', 'S', True, 1.0),\n",
       " ('T0', 'T', True, 1.0),\n",
       " ('Y0', 'Y', True, 0.9998)]"
      ]
     },
     "execution_count": 59,
     "metadata": {},
     "output_type": "execute_result"
    }
   ],
   "source": [
    "predict_drawn_all(model_1k, 'res100k.csv')"
   ]
  },
  {
   "cell_type": "code",
   "execution_count": null,
   "id": "1b4d4d8b",
   "metadata": {},
   "outputs": [],
   "source": []
  },
  {
   "cell_type": "code",
   "execution_count": null,
   "id": "85eb0443",
   "metadata": {},
   "outputs": [],
   "source": []
  }
 ],
 "metadata": {
  "kernelspec": {
   "display_name": "Python 3 (ipykernel)",
   "language": "python",
   "name": "python3"
  },
  "language_info": {
   "codemirror_mode": {
    "name": "ipython",
    "version": 3
   },
   "file_extension": ".py",
   "mimetype": "text/x-python",
   "name": "python",
   "nbconvert_exporter": "python",
   "pygments_lexer": "ipython3",
   "version": "3.8.12"
  }
 },
 "nbformat": 4,
 "nbformat_minor": 5
}
